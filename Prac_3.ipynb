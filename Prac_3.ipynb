{
  "nbformat": 4,
  "nbformat_minor": 0,
  "metadata": {
    "colab": {
      "provenance": [],
      "authorship_tag": "ABX9TyOL/5kWjegcGdc5EOk07UQ/",
      "include_colab_link": true
    },
    "kernelspec": {
      "name": "python3",
      "display_name": "Python 3"
    },
    "language_info": {
      "name": "python"
    }
  },
  "cells": [
    {
      "cell_type": "markdown",
      "metadata": {
        "id": "view-in-github",
        "colab_type": "text"
      },
      "source": [
        "<a href=\"https://colab.research.google.com/github/saninsurya/Project_submission/blob/main/Prac_3.ipynb\" target=\"_parent\"><img src=\"https://colab.research.google.com/assets/colab-badge.svg\" alt=\"Open In Colab\"/></a>"
      ]
    },
    {
      "cell_type": "code",
      "execution_count": null,
      "metadata": {
        "id": "oMmJ0qf94yI1"
      },
      "outputs": [],
      "source": [
        "import numpy as np\n",
        "f1 = np.genfromtxt(\"/content/testmarks1.csv\",delimiter=\",\")\n",
        "print(f1)\n",
        "r=f1[1:,1]\n",
        "print(r)\n",
        "print(type(r))\n",
        "print(max(r))\n",
        "f2 = np.genfromtxt(\"/content/testmarks2.csv\",delimiter=\",\")\n",
        "print(f2)\n",
        "print(f1)\n",
        "print(f2)\n",
        "#SUBSTRACT\n",
        "result=f1-f2\n",
        "print(\"Using operator\",result)\n",
        "result=np.subtract(f1,f2)\n",
        "print(\"Using Numpy function\", result)\n",
        "#ADDITION\n",
        "addition=f1+f2\n",
        "print(\"Using Operator\",addition)\n",
        "addition=np.add(f1,f2)\n",
        "print(\"USing Numpy function\",addition)\n",
        "#MULTIPICATION\n",
        "multiply=f1*f2\n",
        "print(\"Using operator\",multiply)\n",
        "multiply=np.multiply(f1,f2)\n",
        "print(\"Using Numpy fuction\",multiply)\n",
        "#DIVISON\n",
        "div=f1/f2\n",
        "print(\"Using operator\",div)\n",
        "div=np.divide(f1,f2)\n",
        "print(\"Using Numpy operator\",div)\n",
        "#MODULAS\n",
        "mod=f1%f2\n",
        "print(\"Using operator\",mod)\n",
        "mod=np.mod(f1,f2)\n",
        "print(\"Using Numpy operator\",mod)\n",
        "mod=np.hstack((f1,f2))\n",
        "mod\n",
        "#VERTICAL_STACKING\n",
        "mod=np.vstack((f1,f2))\n",
        "mod\n",
        "#RANGE\n",
        "arr=np.arange(800,810,1)\n",
        "print(arr)\n",
        "#STATISTICAL OPERATION\n",
        "print(\"Standard derivation\",f1.std())\n",
        "print(\"min=\", f1.min())\n",
        "print(\"max=\", f1.max())\n",
        "print(\"sum=\", f1.sum())\n",
        "print(\"product=\", f1.prod())\n",
        "#ARITHMETIC OPERATION\n",
        "print(\"\\nADDITION\\n\",np.add(f1,f2))\n",
        "print(\"\\nSUBSTRACT\\n\",np.subtract(f1,f2))\n",
        "print(\"\\nMULTIPLICATION\\n\",np.multiply(f1,f2))\n",
        "print(\"\\nDIVISION\\n\",np.divide(f1,f2))\n",
        "#coping and viewing\n",
        "x = arr.view()#viewing\n",
        "arr[0] = 42\n",
        "print(arr)\n",
        "print(x)\n",
        "#coping\n",
        "x = arr.copy()\n",
        "arr[0] = 42\n",
        "print(arr)\n",
        "print(x)\n",
        "#Mean median and mode\n",
        "import numpy\n",
        "mean = numpy.mean(arr)\n",
        "print(\"Mean=\",mean)\n",
        "median=numpy.median(arr)\n",
        "print(\"Median\",median)\n",
        "from scipy import stats\n",
        "mode = stats.mode(arr)\n",
        "print(mode)\n",
        "#BITWOSE OPERATOR\n",
        "a=60\n",
        "b=40\n",
        "print(\"Binary of a \",bin(a))\n",
        "print(\"Binary of b \",bin(b))\n",
        "print(\"Bitwise a and b \",np.bitwise_and(a,b))\n",
        "print(\"Bitwise a or b\",np.bitwise_or(a,b))\n",
        "print(\"Bitwise a xor b\",np.bitwise_xor(a,b))\n"
      ]
    }
  ]
}