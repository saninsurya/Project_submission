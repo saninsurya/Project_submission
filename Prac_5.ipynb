{
  "nbformat": 4,
  "nbformat_minor": 0,
  "metadata": {
    "colab": {
      "provenance": [],
      "authorship_tag": "ABX9TyMx+MDBPes704dhN15UTVKa",
      "include_colab_link": true
    },
    "kernelspec": {
      "name": "python3",
      "display_name": "Python 3"
    },
    "language_info": {
      "name": "python"
    }
  },
  "cells": [
    {
      "cell_type": "markdown",
      "metadata": {
        "id": "view-in-github",
        "colab_type": "text"
      },
      "source": [
        "<a href=\"https://colab.research.google.com/github/saninsurya/Project_submission/blob/main/Prac_5.ipynb\" target=\"_parent\"><img src=\"https://colab.research.google.com/assets/colab-badge.svg\" alt=\"Open In Colab\"/></a>"
      ]
    },
    {
      "cell_type": "code",
      "execution_count": null,
      "metadata": {
        "id": "I9iCKbVQ5v15"
      },
      "outputs": [],
      "source": [
        "from matplotlib import pyplot as plt\n",
        "import numpy as np\n",
        "import pandas as pd\n",
        "import seaborn as sns\n",
        "tips_data=pd.read_csv(\"C:\\\\Users\\\\Admin\\\\Downloads\\\\tips.csv\")\n",
        "tips = sns.load_dataset(\"tips\")\n",
        "sns.catplot(data=tips, x=\"tip\", y=\"sex\", kind=\"bar\")\n",
        "tips = sns.load_dataset(\"tips\")\n",
        "sns.catplot(data=tips, x=\"day\", y=\"total_bill\")\n",
        "sns.catplot(data=tips.query(\"size != 3\"), x=\"size\", y=\"total_bill\")\n",
        "plt\n",
        "sns.catplot(data=tips, x=\"smoker\", y=\"tip\", order=[\"No\", \"Yes\"],kind='bar')\n",
        "sns.catplot(\n",
        " data=tips, x=\"day\", y=\"total_bill\", hue=\"sex\",kind=\"violin\", split=True,)\n",
        "sns.catplot(data=tips, x=\"smoker\", kind=\"count\", palette=\"ch:.25\")\n",
        "sns.catplot(\n",
        " data=tips, x=\"day\", y=\"total_bill\", hue=\"smoker\",\n",
        " kind=\"swarm\", col=\"time\", aspect=.7,\n",
        ")\n",
        "sns.catplot(data=tips, x=\"day\", y=\"total_bill\", kind=\"box\")\n",
        "\n",
        "sns.catplot(\n",
        " data=tips, x=\"total_bill\", y=\"day\", hue=\"sex\",\n",
        " palette={\"Male\": \"g\", \"Female\": \"m\"},\n",
        " markers=[\"^\", \"o\"], linestyles=[\"-\", \"--\"],\n",
        " kind=\"point\"\n",
        ")\n"
      ]
    }
  ]
}