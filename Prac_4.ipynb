{
  "nbformat": 4,
  "nbformat_minor": 0,
  "metadata": {
    "colab": {
      "provenance": [],
      "authorship_tag": "ABX9TyM4xLVptyYupUS+xA1C29/6",
      "include_colab_link": true
    },
    "kernelspec": {
      "name": "python3",
      "display_name": "Python 3"
    },
    "language_info": {
      "name": "python"
    }
  },
  "cells": [
    {
      "cell_type": "markdown",
      "metadata": {
        "id": "view-in-github",
        "colab_type": "text"
      },
      "source": [
        "<a href=\"https://colab.research.google.com/github/saninsurya/Project_submission/blob/main/Prac_4.ipynb\" target=\"_parent\"><img src=\"https://colab.research.google.com/assets/colab-badge.svg\" alt=\"Open In Colab\"/></a>"
      ]
    },
    {
      "cell_type": "code",
      "execution_count": null,
      "metadata": {
        "id": "rcW6j0_r5R1f"
      },
      "outputs": [],
      "source": [
        "import numpy as np\n",
        "import pandas as pd\n",
        "import itertools\n",
        "\n",
        "# Read the CSV file into a DataFrame\n",
        "df = pd.read_csv(\"D:\\\\python\\\\grainsales.csv\")\n",
        "\n",
        "# Display the DataFrame\n",
        "print(df)\n",
        "# 1Group by month and calculate total sales\n",
        "monthly_sales = df.groupby('Months')['Sales'].sum()\n",
        "\n",
        "# 2Find the month with the highest sales\n",
        "best_month = monthly_sales.idxmax()\n",
        "\n",
        "# 3Calculate the earnings for the best month\n",
        "earnings = monthly_sales.max()\n",
        "\n",
        "# Print the result\n",
        "print(\"The best month for sales was\", best_month, \"with earnings of\", earnings)\n",
        "# Group by grain and calculate total sales\n",
        "grain_sales = df.groupby('GrainName')['Sales'].sum()\n",
        "\n",
        "# Find the grain with the highest sales\n",
        "best_selling_grain = grain_sales.idxmax()\n",
        "\n",
        "# Print the result\n",
        "print(\"The product that sold the most was\", best_selling_grain)\n",
        "\n",
        "# Group by city and calculate total number of products sold\n",
        "city_sales = df.groupby('City').size()\n",
        "\n",
        "# Find the city with the highest sales\n",
        "best_selling_city = city_sales.idxmax()\n",
        "\n",
        "# Print the result\n",
        "print(\"The city that sold the most products was\", best_selling_city)"
      ]
    }
  ]
}