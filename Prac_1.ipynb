{
  "nbformat": 4,
  "nbformat_minor": 0,
  "metadata": {
    "colab": {
      "provenance": [],
      "authorship_tag": "ABX9TyMvcJm2KRrPRQ77PDYmmzsO",
      "include_colab_link": true
    },
    "kernelspec": {
      "name": "python3",
      "display_name": "Python 3"
    },
    "language_info": {
      "name": "python"
    }
  },
  "cells": [
    {
      "cell_type": "markdown",
      "metadata": {
        "id": "view-in-github",
        "colab_type": "text"
      },
      "source": [
        "<a href=\"https://colab.research.google.com/github/saninsurya/Project_submission/blob/main/Prac_1.ipynb\" target=\"_parent\"><img src=\"https://colab.research.google.com/assets/colab-badge.svg\" alt=\"Open In Colab\"/></a>"
      ]
    },
    {
      "cell_type": "code",
      "execution_count": null,
      "metadata": {
        "id": "nHYmsYLQ4dQq"
      },
      "outputs": [],
      "source": [
        "f=open(\"D:\\\\python\\\\stud.csv\",\"r\")\n",
        "info_dataset=[]\n",
        "while True:\n",
        "    data=f.readline()\n",
        "    if data:\n",
        "        info_dataset.append(data.replace(\"\\n\",\"\").split(\",\"))\n",
        "    else:\n",
        "        break;\n",
        "print(info_dataset)\n",
        "Name=[]\n",
        "Rollno=[]\n",
        "Section=[]\n",
        "Batch=[]\n",
        "for row in info_dataset[1:]:\n",
        "    Name.append(row[0])\n",
        "    Rollno.append(row[1])\n",
        "    Section.append(row[2])\n",
        "    Batch.append(row[3])\n",
        "    f2=open(\"D:\\\\python\\\\marks.csv\",\"r\")\n",
        "student_dataset=[]\n",
        "while True:\n",
        "    data1=f2.readline()\n",
        "    if data1:\n",
        "        student_dataset.append(data1.replace(\"\\n\",\"\").split(\",\"))\n",
        "    else:\n",
        "        break;\n",
        "print(student_dataset)\n",
        "Maths=[]\n",
        "Physics=[]\n",
        "for row in student_dataset[1:]:\n",
        "    Maths.append(row[0])\n",
        "    Physics.append(row[1])\n",
        "f4=open(\"student_details.csv\",\"w\")\n",
        "student_details=[]\n",
        "for i in range (len(student_dataset)):\n",
        "    student_details.append(info_dataset[i]+student_dataset[i])\n",
        "print(student_details)\n",
        "data_to_write=[]\n",
        "for i in range(len(student_details[0])):#10 rows\n",
        "    row=list()\n",
        "    for j in range(len(student_details)):#12 col\n",
        "        data=student_details[j][i]\n",
        "        row.append(data)\n",
        "    row.append('\\n')\n",
        "    data_to_write.append(\",\".join(row))\n",
        "    Name=[]\n",
        "    Rollno=[]\n",
        "    Section=[]\n",
        "    Batch=[]\n",
        "    Maths=[]\n",
        "    Physics=[]\n",
        "    studentdetail=[]\n",
        "    studentdetail.append(Name)\n",
        "    studentdetail.append(Rollno)\n",
        "    studentdetail.append(Section)\n",
        "    studentdetail.append(Batch)\n",
        "    studentdetail.append(Maths)\n",
        "    studentdetail.append(Physics)\n",
        "    print(\"math marks=\",Maths)\n",
        "    print(\"physics marks=\",Physics)\n",
        "    Maths=[int(i) for i in Maths]\n",
        "    Physics=[int(i) for i in Physics]\n",
        "    sum_of_marks=[]\n",
        "    average=[]\n",
        "    for i in range(len(Maths)):\n",
        "        sum_of_marks.append(Maths[i]+Physics[i])\n",
        "        average.append(round(sum_of_marks[i],2))\n",
        "        print(\"sum_of_marks=\",sum_of_marks)\n",
        "        print(\"Average of marks=\",average)\n"
      ]
    }
  ]
}