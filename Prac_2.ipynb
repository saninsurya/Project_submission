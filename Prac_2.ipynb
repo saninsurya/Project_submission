{
  "nbformat": 4,
  "nbformat_minor": 0,
  "metadata": {
    "colab": {
      "provenance": [],
      "authorship_tag": "ABX9TyOsTEAwR1RlX2QmnElQqWdK",
      "include_colab_link": true
    },
    "kernelspec": {
      "name": "python3",
      "display_name": "Python 3"
    },
    "language_info": {
      "name": "python"
    }
  },
  "cells": [
    {
      "cell_type": "markdown",
      "metadata": {
        "id": "view-in-github",
        "colab_type": "text"
      },
      "source": [
        "<a href=\"https://colab.research.google.com/github/saninsurya/Project_submission/blob/main/Prac_2.ipynb\" target=\"_parent\"><img src=\"https://colab.research.google.com/assets/colab-badge.svg\" alt=\"Open In Colab\"/></a>"
      ]
    },
    {
      "cell_type": "code",
      "execution_count": null,
      "metadata": {
        "id": "uQz8kQQAuy8K"
      },
      "outputs": [],
      "source": [
        "product_details=[]\n",
        "supplier_details={}\n",
        "customer_details=[]\n",
        "Gender={}\n",
        "fp=open(\"/content/Sales (1).xlsx\",\"r\")\n",
        "while(True):\n",
        "    data = fp.readline()\n",
        "    if not data:\n",
        "      break;\n",
        "     #print(data)\n",
        "    data=data.replace(\"\\n\",\"\")\n",
        "    temp=data.split(\",\")\n",
        "    product_details.append(temp[1])\n",
        "    customer_details.append(temp[3])\n",
        "    supplier_details.update({temp[0]:temp[2]})\n",
        "    Gender.update({temp[3]:temp[4]})\n",
        "fp.close()\n",
        "customer_details=tuple(customer_details)\n",
        "print(type(customer_details))\n",
        "print(\"product_details\",product_details,)\n",
        "print(\"customer_details\",customer_details)\n",
        "print(\"supplier_details\",supplier_details)\n",
        "print(\"Gender_details\",Gender)\n",
        "frequency={}\n",
        "for item in product_details:\n",
        "    if item in frequency:\n",
        "         frequency[item]=1\n",
        "         frequency[item]+=1\n",
        "    else:\n",
        "       frequency[item]=1\n",
        "print(frequency)\n",
        "marklist=sorted(frequency.items(),key=lambda x:x[1],reverse=True)\n",
        "sortdict=dict(marklist)\n",
        "print(sortdict)\n",
        "print(\"The most of the product for sales\",list(sortdict.keys())[0],\"Sold\",list(sortdict.values())[0],\"Items\")\n",
        "marklist=sorted(frequency.items(),key=lambda x:x[1],reverse=True)\n",
        "sortdict=dict(marklist)\n",
        "print(sortdict)\n",
        "print(\"The most of the supplier for sales\",list(sortdict.keys())[0],\"Sold\",list(sortdict.values())[0],\"Items\")\n",
        "marklist=sorted(frequency.items(),key=lambda x:x[1],reverse=True)\n",
        "sortdict=dict(marklist)\n",
        "print(sortdict)\n",
        "print(\"The most of the product buying customer\",list(sortdict.keys())[0],\"Sold\",list(sortdict.values())[0],\"Items\")\n",
        "from collections import Counter\n",
        "counter=dict(Counter(Gender))\n",
        "names=list(counter.keys())\n",
        "print(names)\n",
        "male=0\n",
        "female=0\n",
        "for name in names:\n",
        "    if Gender[name]==\"Male\":\n",
        "       male=male+1\n",
        "    if Gender[name]==\"Female\":\n",
        "       female=female+1\n",
        "print(\"Total no of Female=\",female)"
      ]
    }
  ]
}